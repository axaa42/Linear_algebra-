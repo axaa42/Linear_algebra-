{
 "cells": [
  {
   "cell_type": "markdown",
   "id": "aa88d1c6",
   "metadata": {},
   "source": [
    "# Least Squares Method using Linear Algebra \n",
    "\n",
    "- We use the formula A=Inverse((tranpose(X)*X)) * transpose(X)* Y  \n",
    "- The above formula will get the y and m co-efficients using the least squares method"
   ]
  },
  {
   "cell_type": "code",
   "execution_count": null,
   "id": "25ce308a",
   "metadata": {},
   "outputs": [],
   "source": [
    "import numpy as np\n",
    "from numpy.linalg import inv"
   ]
  },
  {
   "cell_type": "code",
   "execution_count": null,
   "id": "806478d6",
   "metadata": {},
   "outputs": [],
   "source": [
    "Y=np.array([[124,95,71,45,18]]) # This is our target Y values\n",
    "\n",
    "X=np.array([[1,49],[1,69],[1,89],[1,99],[1,109]]) # These are our X values, we put 1's for the B so they stay "
   ]
  },
  {
   "cell_type": "code",
   "execution_count": null,
   "id": "f7d28058",
   "metadata": {},
   "outputs": [],
   "source": [
    "trans=np.transpose(X)  # transpose the X"
   ]
  },
  {
   "cell_type": "code",
   "execution_count": null,
   "id": "7c9ad9d3",
   "metadata": {},
   "outputs": [],
   "source": [
    "xx=np.matmul(trans,X) #multiply the transpose by the actual X matrix"
   ]
  },
  {
   "cell_type": "code",
   "execution_count": null,
   "id": "c635aac7",
   "metadata": {},
   "outputs": [],
   "source": [
    "invs=inv(xx) # Now inverse the previous step of x * transpose x"
   ]
  },
  {
   "cell_type": "code",
   "execution_count": null,
   "id": "752922b8",
   "metadata": {},
   "outputs": [],
   "source": [
    "xy=np.matmul(trans,np.transpose(Y)) # Now we multiply the transposed x by the transposed y(due to Y being other way round)"
   ]
  },
  {
   "cell_type": "code",
   "execution_count": null,
   "id": "ec82f5ac",
   "metadata": {},
   "outputs": [],
   "source": [
    "f=np.matmul(invs,xy) # Multiply the inverse from before and multiply by the transposed x by Y"
   ]
  },
  {
   "cell_type": "code",
   "execution_count": null,
   "id": "fdce32b8",
   "metadata": {},
   "outputs": [],
   "source": [
    "f"
   ]
  },
  {
   "cell_type": "markdown",
   "id": "6a46e315",
   "metadata": {},
   "source": [
    "# Below is sklearn implementation for comparison\n",
    "\n",
    "- We can see the co-efficients are identical"
   ]
  },
  {
   "cell_type": "code",
   "execution_count": null,
   "id": "65eef2a3",
   "metadata": {},
   "outputs": [],
   "source": [
    "from sklearn.linear_model import LinearRegression\n",
    "\n",
    "reg = LinearRegression().fit(X, np.transpose(Y))\n",
    "\n",
    "\n"
   ]
  },
  {
   "cell_type": "code",
   "execution_count": null,
   "id": "4513df11",
   "metadata": {},
   "outputs": [],
   "source": [
    "reg.coef_"
   ]
  },
  {
   "cell_type": "code",
   "execution_count": null,
   "id": "59ebc82c",
   "metadata": {},
   "outputs": [],
   "source": [
    "reg.intercept_"
   ]
  }
 ],
 "metadata": {
  "kernelspec": {
   "display_name": "Python 3 (ipykernel)",
   "language": "python",
   "name": "python3"
  },
  "language_info": {
   "codemirror_mode": {
    "name": "ipython",
    "version": 3
   },
   "file_extension": ".py",
   "mimetype": "text/x-python",
   "name": "python",
   "nbconvert_exporter": "python",
   "pygments_lexer": "ipython3",
   "version": "3.7.11"
  }
 },
 "nbformat": 4,
 "nbformat_minor": 5
}
